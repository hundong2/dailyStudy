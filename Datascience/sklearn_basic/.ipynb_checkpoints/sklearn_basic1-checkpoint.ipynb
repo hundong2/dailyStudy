{
 "cells": [
  {
   "cell_type": "markdown",
   "metadata": {},
   "source": [
    "# SKLEARN BASIC\n",
    "\n",
    "## reference\n",
    "[sklearn basic](https://losskatsu.github.io/machine-learning/sklearn/#%EC%82%AC%EC%9D%B4%ED%82%B7%EB%9F%B0sklearn%EC%9D%B4%EB%9E%80)"
   ]
  },
  {
   "cell_type": "code",
   "execution_count": 1,
   "metadata": {},
   "outputs": [],
   "source": [
    "import numpy as np                                       ## 기초 수학 연산 및 행렬계산\n",
    "import pandas as pd                                      ## 데이터프레임 사용\n",
    "from sklearn import datasets                             ## iris와 같은 내장 데이터 사용\n",
    "from sklearn.model_selection import train_test_split     ## train, test 데이터 분할\n",
    "\n",
    "from sklearn.linear_model import LinearRegression        ## 선형 회귀분석\n",
    "from sklearn.linear_model import LogisticRegression      ## 로지스틱 회귀분석\n",
    "from sklearn.naive_bayes import GaussianNB               ## 나이브 베이즈\n",
    "from sklearn import svm                                  ## 서포트 벡터 머신\n",
    "from sklearn import tree                                 ## 의사결정나무\n",
    "from sklearn.ensemble import RandomForestClassifier      ## 랜덤포레스트\n",
    "\n",
    "import matplotlib.pyplot as plt                          ## plot 그릴때 사용"
   ]
  },
  {
   "cell_type": "code",
   "execution_count": null,
   "metadata": {},
   "outputs": [],
   "source": []
  }
 ],
 "metadata": {
  "kernelspec": {
   "display_name": "Python 3",
   "language": "python",
   "name": "python3"
  },
  "language_info": {
   "codemirror_mode": {
    "name": "ipython",
    "version": 3
   },
   "file_extension": ".py",
   "mimetype": "text/x-python",
   "name": "python",
   "nbconvert_exporter": "python",
   "pygments_lexer": "ipython3",
   "version": "3.7.4"
  }
 },
 "nbformat": 4,
 "nbformat_minor": 4
}

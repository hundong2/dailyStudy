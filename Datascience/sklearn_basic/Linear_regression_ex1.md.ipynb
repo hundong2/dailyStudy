{
 "cells": [
  {
   "cell_type": "markdown",
   "metadata": {},
   "source": [
    "# Linear Regression ( 선형회귀)\n",
    "\n",
    "## what is linear regression?\n",
    "\n",
    "- Line(선) : 가장 직관적이고 간단한 모델. \n",
    "- Linear Regression (선형회귀) : 선을 찾는 분석하는 방법. \n",
    "\n",
    "$ y = ax + b $\n",
    "\n",
    "`a`는 기울기,`b`는 `y`절편\n",
    "\n",
    "`mean squared error(MSE) - 평균 제곱 오차` 위 함수에 대한 오차 손실\n",
    "- 모든 손실에 제곱을 해주는 게 좋다. \n",
    "- 선형 회귀 모델의 목표는 모든 데이터로부터 나타나는 오차의 평균을 최소화할 수 있는 최적의 기울기와 절편을 찾는 거다.  \n",
    "\n",
    "## 손실을 최소화 하기 위한 방법, 경사하강법( gradiant descent )\n",
    "\n",
    "- 일단 파라미터를 임의로 정한 다음에 조금씩 변화시켜가며 손실을 점점 줄여가는 방법으로 최적의 파라미터를 찾아간다. \n",
    "\n",
    "### Convergence(수렴)\n",
    "\n",
    "- 선형 회귀 분석을 수행하면 기울기와 절편을 계속 변경해가면서 최적의 값을 찾게 될 텐데, 이걸 언제까지 할지 정해줘야 한다. 무작정 계속 시킬 수 없다.\n",
    "- 파라미터를 계속 조정 하다보면 어느정도 최적의 값으로 수렴(converge)한다.\n",
    "\n",
    "## 학습률( Learning Rate )\n"
   ]
  },
  {
   "cell_type": "markdown",
   "metadata": {},
   "source": [
    "## (Example) 선형 회귀 ( Linear Regression )"
   ]
  },
  {
   "cell_type": "markdown",
   "metadata": {},
   "source": [
    "`LinearRegression`모델을 생성하고, X,y 데이터를 fit 시키는 예제. \n",
    "\n",
    "```python\n",
    "from sklearn.linear_model import LinearRegression\n",
    "\n",
    "line_filtter = LinearRegression()\n",
    "line_filtter.fit(X,y)\n",
    "```\n",
    "\n",
    "`fit()` 메서드는 선형 회귀 모델에 필요한 두가지 변수를 전달. \n",
    "\n",
    "`line_fitter.coef_` : 기울기\n",
    "`line_fitter.intercept_` : 절편\n",
    "\n",
    "새로운 `X` 값에 대한 y값 예측\n",
    "\n",
    "```python\n",
    "y_predicted = line_fitter.predict(X)\n",
    "```\n",
    "\n",
    "sklearn 단순 선형회귀에서는 `최소제곱법(Ordinary Least Squares)`를 활용. \n"
   ]
  },
  {
   "cell_type": "code",
   "execution_count": 2,
   "metadata": {},
   "outputs": [],
   "source": [
    "from sklearn.linear_model import LinearRegression\n",
    "import pandas as pd\n",
    "import numpy as np\n",
    "import matplotlib.pyplot as plt"
   ]
  },
  {
   "cell_type": "code",
   "execution_count": 3,
   "metadata": {},
   "outputs": [],
   "source": [
    "df = {'height':[65.78, 71.52, 69.40, 68.22, 67.79], 'weight':[112.99, 136.49, 153.03, 142.34, 144.30]}"
   ]
  },
  {
   "cell_type": "code",
   "execution_count": 7,
   "metadata": {},
   "outputs": [
    {
     "name": "stdout",
     "output_type": "stream",
     "text": [
      "   height  weight\n",
      "0   65.78  112.99\n",
      "1   71.52  136.49\n",
      "2   69.40  153.03\n",
      "3   68.22  142.34\n",
      "4   67.79  144.30\n"
     ]
    }
   ],
   "source": [
    "from pandas import Series, DataFrame\n",
    "data = DataFrame(df)\n",
    "print(data)"
   ]
  },
  {
   "cell_type": "code",
   "execution_count": 8,
   "metadata": {},
   "outputs": [
    {
     "data": {
      "text/html": [
       "<div>\n",
       "<style scoped>\n",
       "    .dataframe tbody tr th:only-of-type {\n",
       "        vertical-align: middle;\n",
       "    }\n",
       "\n",
       "    .dataframe tbody tr th {\n",
       "        vertical-align: top;\n",
       "    }\n",
       "\n",
       "    .dataframe thead th {\n",
       "        text-align: right;\n",
       "    }\n",
       "</style>\n",
       "<table border=\"1\" class=\"dataframe\">\n",
       "  <thead>\n",
       "    <tr style=\"text-align: right;\">\n",
       "      <th></th>\n",
       "      <th>height</th>\n",
       "      <th>weight</th>\n",
       "    </tr>\n",
       "  </thead>\n",
       "  <tbody>\n",
       "    <tr>\n",
       "      <th>0</th>\n",
       "      <td>65.78</td>\n",
       "      <td>112.99</td>\n",
       "    </tr>\n",
       "    <tr>\n",
       "      <th>1</th>\n",
       "      <td>71.52</td>\n",
       "      <td>136.49</td>\n",
       "    </tr>\n",
       "    <tr>\n",
       "      <th>2</th>\n",
       "      <td>69.40</td>\n",
       "      <td>153.03</td>\n",
       "    </tr>\n",
       "    <tr>\n",
       "      <th>3</th>\n",
       "      <td>68.22</td>\n",
       "      <td>142.34</td>\n",
       "    </tr>\n",
       "    <tr>\n",
       "      <th>4</th>\n",
       "      <td>67.79</td>\n",
       "      <td>144.30</td>\n",
       "    </tr>\n",
       "  </tbody>\n",
       "</table>\n",
       "</div>"
      ],
      "text/plain": [
       "   height  weight\n",
       "0   65.78  112.99\n",
       "1   71.52  136.49\n",
       "2   69.40  153.03\n",
       "3   68.22  142.34\n",
       "4   67.79  144.30"
      ]
     },
     "execution_count": 8,
     "metadata": {},
     "output_type": "execute_result"
    }
   ],
   "source": [
    "data.head()"
   ]
  },
  {
   "cell_type": "code",
   "execution_count": null,
   "metadata": {},
   "outputs": [],
   "source": [
    "X = data[\"height\"]\n",
    "y = data[\"weight\"]\n",
    "plt.plot(X,y,)"
   ]
  }
 ],
 "metadata": {
  "kernelspec": {
   "display_name": "Python 3",
   "language": "python",
   "name": "python3"
  },
  "language_info": {
   "codemirror_mode": {
    "name": "ipython",
    "version": 3
   },
   "file_extension": ".py",
   "mimetype": "text/x-python",
   "name": "python",
   "nbconvert_exporter": "python",
   "pygments_lexer": "ipython3",
   "version": "3.7.4"
  }
 },
 "nbformat": 4,
 "nbformat_minor": 4
}

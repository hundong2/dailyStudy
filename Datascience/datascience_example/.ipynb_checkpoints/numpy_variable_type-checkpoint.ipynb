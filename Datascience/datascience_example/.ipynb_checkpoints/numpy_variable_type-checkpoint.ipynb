{
 "cells": [
  {
   "cell_type": "markdown",
   "id": "9e106f3e",
   "metadata": {},
   "source": [
    "# numpy의 자료형\n",
    "## numpy자료형 형 선언\n",
    "- `dtype`사용"
   ]
  },
  {
   "cell_type": "code",
   "execution_count": 6,
   "id": "bfd181f4",
   "metadata": {},
   "outputs": [],
   "source": [
    "import numpy as np\n",
    "a = np.array([1,2,3], dtype=int)"
   ]
  },
  {
   "cell_type": "code",
   "execution_count": 7,
   "id": "9fa7c9c2",
   "metadata": {},
   "outputs": [
    {
     "data": {
      "text/plain": [
       "array([1, 2, 3])"
      ]
     },
     "execution_count": 7,
     "metadata": {},
     "output_type": "execute_result"
    }
   ],
   "source": [
    "a"
   ]
  },
  {
   "cell_type": "code",
   "execution_count": 9,
   "id": "98b93ae4",
   "metadata": {},
   "outputs": [
    {
     "data": {
      "text/plain": [
       "dtype('int32')"
      ]
     },
     "execution_count": 9,
     "metadata": {},
     "output_type": "execute_result"
    }
   ],
   "source": [
    "a.dtype"
   ]
  },
  {
   "cell_type": "markdown",
   "id": "71e7199b",
   "metadata": {},
   "source": [
    "|dtype 접두사 | 설명 | 사용예 |\n",
    "|--- | --- | --- |\n",
    "| b | boolean | b(true or false) |\n",
    "| i | integer | i8(64bit) |\n",
    "| u | unsigned integer | u8(64bit) |\n",
    "| f | foating | f8(64bit) |\n",
    "| c | complex floating number | c16(128bit) |\n",
    "| o | Oject | 0 ( point of Object ) |\n",
    "| s | byte array string | S24 ( 24 word ) |\n",
    "| U | Unicode String | U24(24 Unicode string) |"
   ]
  }
 ],
 "metadata": {
  "kernelspec": {
   "display_name": "Python 3 (ipykernel)",
   "language": "python",
   "name": "python3"
  },
  "language_info": {
   "codemirror_mode": {
    "name": "ipython",
    "version": 3
   },
   "file_extension": ".py",
   "mimetype": "text/x-python",
   "name": "python",
   "nbconvert_exporter": "python",
   "pygments_lexer": "ipython3",
   "version": "3.9.12"
  }
 },
 "nbformat": 4,
 "nbformat_minor": 5
}
